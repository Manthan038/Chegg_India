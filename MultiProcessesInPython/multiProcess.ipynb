{
  "nbformat": 4,
  "nbformat_minor": 0,
  "metadata": {
    "colab": {
      "name": "multiProcess.ipynb",
      "provenance": [],
      "authorship_tag": "ABX9TyNvMFa6dIMKY8pw9JVbU8Xx",
      "include_colab_link": true
    },
    "kernelspec": {
      "name": "python3",
      "display_name": "Python 3"
    }
  },
  "cells": [
    {
      "cell_type": "markdown",
      "metadata": {
        "id": "view-in-github",
        "colab_type": "text"
      },
      "source": [
        "<a href=\"https://colab.research.google.com/github/manthan038/Chegg_India/blob/master/MultiProcessesInPython/multiProcess.ipynb\" target=\"_parent\"><img src=\"https://colab.research.google.com/assets/colab-badge.svg\" alt=\"Open In Colab\"/></a>"
      ]
    },
    {
      "cell_type": "code",
      "metadata": {
        "id": "8W7iMBOGYHU8",
        "colab_type": "code",
        "colab": {
          "base_uri": "https://localhost:8080/",
          "height": 128
        },
        "outputId": "b0549bcf-0f2c-41c2-d49f-80873bac8a06"
      },
      "source": [
        "import random\n",
        "import time\n",
        "import threading\n",
        "my_mutex = threading.Lock()\n",
        "class thread_one(threading.Thread):\n",
        "\tdef run(self):\n",
        "\t\t# Python mutex global\n",
        "\t\tglobal my_mutex\n",
        "    while(True):\n",
        "      print (\"The first thread is now sleeping\")\n",
        "      time.sleep(random.randint(2))\n",
        "\t\t# Python release mutex: once the first thread\n",
        "\t\t# is done, we release the lock\n",
        "    \n",
        " \n",
        "class thread_two(threading.Thread):\n",
        "\tdef run(self):\n",
        "\t\t# Python mutex global\n",
        "\t\tglobal my_mutex\n",
        "    while(True):\n",
        "      print (\"The second thread is now sleeping\")\n",
        "      time.sleep(random.randint(1))\n",
        "\t\t# Python mutex acquire: second thread has to\n",
        "\t\t# to keep waiting until the lock is released\n",
        "\t\tmy_mutex.acquire()\n",
        "\t\tprint(\"Second thread is finished\")\n",
        " \n",
        "# Python mutex acquire: main thread is acquiring the lock \n",
        "my_mutex.acquire()\n",
        "t1 = thread_one()\n",
        "t2 = thread_two()\n",
        "t1.start()\n",
        "t2.start()"
      ],
      "execution_count": 42,
      "outputs": [
        {
          "output_type": "error",
          "ename": "IndentationError",
          "evalue": "ignored",
          "traceback": [
            "\u001b[0;36m  File \u001b[0;32m\"<ipython-input-42-7e1bbae2f7e7>\"\u001b[0;36m, line \u001b[0;32m9\u001b[0m\n\u001b[0;31m    while(True):\u001b[0m\n\u001b[0m                ^\u001b[0m\n\u001b[0;31mIndentationError\u001b[0m\u001b[0;31m:\u001b[0m unindent does not match any outer indentation level\n"
          ]
        }
      ]
    },
    {
      "cell_type": "code",
      "metadata": {
        "id": "szTszYmPnmzc",
        "colab_type": "code",
        "colab": {
          "base_uri": "https://localhost:8080/",
          "height": 504
        },
        "outputId": "19d56f26-6c11-4459-cee7-64705c009cae"
      },
      "source": [
        "import os \n",
        "from time import sleep                                                                      \n",
        "from multiprocessing import Pool                                                                                                                               \n",
        "\n",
        "\n",
        "lock =1                                                                                                                  \n",
        "players=[\"Chegg player 1\",\"Chegg player 2\"]                                              \n",
        "                                                                                \n",
        "def play(player): \n",
        "    i=10  \n",
        "    global lock \n",
        "    sleep(0.5)                                                         \n",
        "    while (i>3 and lock):\n",
        "      lock-=1\n",
        "      i-=1\n",
        "      print(\"this is \",player,\" with value \",i) \n",
        "      print()  \n",
        "      lock+=1  \n",
        "      sleep(1)                                  \n",
        "                                                                                \n",
        "                                                                                \n",
        "pool = Pool(processes=2)                                                        \n",
        "pool.map(play, players)"
      ],
      "execution_count": 71,
      "outputs": [
        {
          "output_type": "stream",
          "text": [
            "this is  Chegg player 1  with value  9\n",
            "this is  Chegg player 2  with value  9\n",
            "\n",
            "\n",
            "this is  Chegg player 2  with value  8\n",
            "\n",
            "this is  Chegg player 1  with value  8\n",
            "\n",
            "this is  Chegg player 2  with value  7\n",
            "\n",
            "this is  Chegg player 1  with value  7\n",
            "\n",
            "this is  Chegg player 2  with value  6\n",
            "\n",
            "this is  Chegg player 1  with value  6\n",
            "\n",
            "this is  Chegg player 2  with value  5\n",
            "\n",
            "this is  Chegg player 1  with value  5\n",
            "\n",
            "this is  Chegg player 2  with value  4\n",
            "\n",
            "this is  Chegg player 1  with value  4\n",
            "\n",
            "this is  Chegg player 2  with value  3\n",
            "\n",
            "this is  Chegg player 1  with value  3\n",
            "\n"
          ],
          "name": "stdout"
        },
        {
          "output_type": "execute_result",
          "data": {
            "text/plain": [
              "[None, None]"
            ]
          },
          "metadata": {
            "tags": []
          },
          "execution_count": 71
        }
      ]
    },
    {
      "cell_type": "code",
      "metadata": {
        "id": "k9BX-uhFfits",
        "colab_type": "code",
        "colab": {
          "base_uri": "https://localhost:8080/",
          "height": 1000
        },
        "outputId": "370b1a53-74bd-4b8a-b01d-4bce94c0a191"
      },
      "source": [
        "import threading, queue\n",
        "\n",
        "q = queue.Queue()\n",
        "\n",
        "def worker():\n",
        "    while True:\n",
        "        item = q.get()\n",
        "        print(f'Working on {item}')\n",
        "        print(f'Finished {item}')\n",
        "        q.task_done()\n",
        "\n",
        "# turn-on the worker thread\n",
        "threading.Thread(target=worker, daemon=True).start()\n",
        "\n",
        "# send thirty task requests to the worker\n",
        "for item in range(30):\n",
        "    q.put(item)\n",
        "print('All task requests sent\\n', end='')\n",
        "\n",
        "# block until all tasks are done\n",
        "print('All work completed')"
      ],
      "execution_count": 25,
      "outputs": [
        {
          "output_type": "stream",
          "text": [
            "All task requests sent\n",
            "All work completed\n",
            "Working on 0\n",
            "Finished 0\n",
            "Working on 1\n",
            "Finished 1\n",
            "Working on 2\n",
            "Finished 2\n",
            "Working on 3\n",
            "Finished 3\n",
            "Working on 4\n",
            "Finished 4\n",
            "Working on 5\n",
            "Finished 5\n",
            "Working on 6\n",
            "Finished 6\n",
            "Working on 7\n",
            "Finished 7\n",
            "Working on 8\n",
            "Finished 8\n",
            "Working on 9\n",
            "Finished 9\n",
            "Working on 10\n",
            "Finished 10\n",
            "Working on 11\n",
            "Finished 11\n",
            "Working on 12\n",
            "Finished 12\n",
            "Working on 13\n",
            "Finished 13\n",
            "Working on 14\n",
            "Finished 14\n",
            "Working on 15\n",
            "Finished 15\n",
            "Working on 16\n",
            "Finished 16\n",
            "Working on 17\n",
            "Finished 17\n",
            "Working on 18\n",
            "Finished 18\n",
            "Working on 19\n",
            "Finished 19\n",
            "Working on 20\n",
            "Finished 20\n",
            "Working on 21\n",
            "Finished 21\n",
            "Working on 22\n",
            "Finished 22\n",
            "Working on 23\n",
            "Finished 23\n",
            "Working on 24\n",
            "Finished 24\n",
            "Working on 25\n",
            "Finished 25\n",
            "Working on 26\n",
            "Finished 26\n",
            "Working on 27\n",
            "Finished 27\n",
            "Working on 28\n",
            "Finished 28\n",
            "Working on 29\n",
            "Finished 29\n"
          ],
          "name": "stdout"
        }
      ]
    }
  ]
}