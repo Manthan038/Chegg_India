{
  "nbformat": 4,
  "nbformat_minor": 0,
  "metadata": {
    "colab": {
      "name": "Class_python.ipynb",
      "provenance": []
    },
    "kernelspec": {
      "name": "python3",
      "display_name": "Python 3"
    }
  },
  "cells": [
    {
      "cell_type": "code",
      "metadata": {
        "id": "m3mTkSYoRm-_",
        "colab_type": "code",
        "colab": {
          "base_uri": "https://localhost:8080/",
          "height": 50
        },
        "outputId": "d41364cf-7475-4a32-c05b-9b46214afe03"
      },
      "source": [
        "class Bool():   #This is Bool class\n",
        "  def __init__(self,b:bool)->None:  # Constructor of Bool class\n",
        "    self.b=b      # Assigning value of bool\n",
        "  def evaluate(self):\n",
        "    return self.b     # return the value of  b \n",
        "  def __str__(self):\n",
        "    return str(self.b)   # for returning string of bool value \n",
        "\n",
        "expr=Bool(True)  #Declaring the object of Bool class and pass the parameter \n",
        "print(\"Evaluate \",expr.evaluate())  # Evaluate the bool value that we have passed as parameter\n",
        "print(\"String Value \",str(Bool(True))) # It will print the string of bool value\n"
      ],
      "execution_count": 106,
      "outputs": [
        {
          "output_type": "stream",
          "text": [
            "Evaluate  True\n",
            "String Value  True\n"
          ],
          "name": "stdout"
        }
      ]
    },
    {
      "cell_type": "markdown",
      "metadata": {
        "id": "yLj25as0VtaK",
        "colab_type": "text"
      },
      "source": [
        ""
      ]
    },
    {
      "cell_type": "code",
      "metadata": {
        "id": "4b0uhke0WJYo",
        "colab_type": "code",
        "colab": {}
      },
      "source": [
        "class BoolOP:\n",
        "  def __init__(self,op:str,values:list)->None:  #Constructor for taking parameter string and list\n",
        "    self.op=op # op variable is string type which hold 'and' or 'or' condition \n",
        "    self.values=values # length of values list will be greater than 2\n",
        "                       # in questions these are invarients that's why I am not writing any condition\n",
        "  def evaluate(self):\n",
        "    temp:bool            # take a temp variable \n",
        "    if self.op==\"and\":    # if operation is \"and\" then exicute this condition\n",
        "      temp=self.values[0].evaluate()  # initial value of temp should be first value of values list\n",
        "      for bool_value in self.values[1:]:  # then loop start from 2nd element of values till last\n",
        "        temp=temp and bool_value.evaluate()  # perform \"and\" operation with all element of list\n",
        "                                            # evalute() function of class Bool will return the bool value \n",
        "                                            # if not use evaluate function then values list contain only the address on Bool value \n",
        "\n",
        "    else:                             # if operation is \"or\" then exicute this condition\n",
        "      temp=self.values[0].evaluate()      # same as in \"and\" case \n",
        "      for bool_value in self.values[1:]:  \n",
        "        temp=temp or bool_value            # perform \"or\" operation with all element of list\n",
        "    return temp       #returning the temp variable after performing the operations"
      ],
      "execution_count": 0,
      "outputs": []
    },
    {
      "cell_type": "markdown",
      "metadata": {
        "id": "6TC915H7mHJk",
        "colab_type": "text"
      },
      "source": [
        "#Driven Code"
      ]
    },
    {
      "cell_type": "code",
      "metadata": {
        "id": "kLewB6AjYJKP",
        "colab_type": "code",
        "colab": {
          "base_uri": "https://localhost:8080/",
          "height": 34
        },
        "outputId": "a531b937-5724-41b3-ff1e-26bf5834f5d4"
      },
      "source": [
        "expr=BoolOP(\"and\",[Bool(True),Bool(False)])\n",
        "print(expr.evaluate())"
      ],
      "execution_count": 108,
      "outputs": [
        {
          "output_type": "stream",
          "text": [
            "False\n"
          ],
          "name": "stdout"
        }
      ]
    }
  ]
}